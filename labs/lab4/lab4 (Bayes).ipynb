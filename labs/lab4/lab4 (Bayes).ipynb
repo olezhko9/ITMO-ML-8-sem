{
 "cells": [
  {
   "cell_type": "code",
   "execution_count": 1,
   "metadata": {},
   "outputs": [],
   "source": [
    "import os\n",
    "import numpy as np\n",
    "import pandas as pd\n",
    "import matplotlib.pyplot as plt\n",
    "from sklearn.base import BaseEstimator\n",
    "from sklearn.feature_extraction.text import CountVectorizer\n",
    "from sklearn.metrics import make_scorer, accuracy_score, f1_score, roc_curve, confusion_matrix\n",
    "from sklearn.model_selection import cross_validate"
   ]
  },
  {
   "cell_type": "markdown",
   "metadata": {},
   "source": [
    "### Считываем данные в один датафрейм"
   ]
  },
  {
   "cell_type": "code",
   "execution_count": 2,
   "metadata": {},
   "outputs": [],
   "source": [
    "messages_dir = './messages/part'\n",
    "messages = []\n",
    "\n",
    "for i in range(1, 11):\n",
    "    messages_part = []\n",
    "    for message_filename in os.listdir(messages_dir + str(i)):\n",
    "        message_file = open(messages_dir + str(i) + \"/\" + message_filename, \"r\")\n",
    "        subject = message_file.readline()[9:-1]\n",
    "        message_file.readline()\n",
    "        text = message_file.readline()[:-1]\n",
    "        is_spam = 1 if 'spmsg' in message_filename else 0\n",
    "\n",
    "        messages.append([subject, text, is_spam])"
   ]
  },
  {
   "cell_type": "code",
   "execution_count": 3,
   "metadata": {},
   "outputs": [],
   "source": [
    "messages = pd.DataFrame(messages, columns=['subject', 'text', 'spam'])\n",
    "X = messages['subject'] + ' ' + messages['text']\n",
    "y = messages['spam']"
   ]
  },
  {
   "cell_type": "code",
   "execution_count": 4,
   "metadata": {},
   "outputs": [],
   "source": [
    "vectorizer = CountVectorizer(ngram_range=(1, 1))\n",
    "X = vectorizer.fit_transform(X).toarray()"
   ]
  },
  {
   "cell_type": "markdown",
   "metadata": {},
   "source": [
    "### Реализация наивного Байесовского классификатора"
   ]
  },
  {
   "cell_type": "code",
   "execution_count": 5,
   "metadata": {},
   "outputs": [],
   "source": [
    "class NaiveBayesClassifier(BaseEstimator):\n",
    "    def __init__(self, smooth=1.0, lambdas=None):\n",
    "        self.smooth = smooth\n",
    "        self.lambdas = lambdas\n",
    "\n",
    "    def fit(self, X, y):\n",
    "        self.total_counts = np.sum(X, axis=0)\n",
    "        self.labels = np.unique(y)\n",
    "\n",
    "        self.word_probas = np.zeros((self.labels.shape[0], self.total_counts.shape[0]))\n",
    "        self.label_probas = np.zeros(self.labels.shape[0])\n",
    "\n",
    "        for label in self.labels:\n",
    "            self.word_probas[label] = (np.sum(X[y == label], axis=0) + self.smooth) / (\n",
    "                    self.smooth * X.shape[1] + np.sum(X[y == label]))\n",
    "            self.label_probas[label] = float(y[y == label].shape[0]) / y.shape[0]\n",
    "\n",
    "    def _log_proba(self, x, label):\n",
    "        return np.log(self.labels_weights[label] * self.label_probas[label]) + np.sum(\n",
    "            np.log(self.word_probas[label][x != 0]))\n",
    "\n",
    "    def predict_log_proba(self, X):\n",
    "        label_probas = np.zeros((X.shape[0], self.labels.shape[0]))\n",
    "        self.labels_weights = np.ones((self.labels.shape[0],)) if self.lambdas is None else self.lambdas\n",
    "\n",
    "        for i in np.arange(0, X.shape[0]):\n",
    "            for label in self.labels:\n",
    "                label_probas[i][label] = self._log_proba(X[i], label)\n",
    "\n",
    "        return label_probas\n",
    "\n",
    "    def predict(self, X):\n",
    "        return np.argmax(self.predict_log_proba(X), axis=1)\n",
    "\n",
    "    def predict_proba(self, X):\n",
    "        label_log_probas = self.predict_log_proba(X)\n",
    "\n",
    "        for i in np.arange(0, X.shape[0]):\n",
    "            label_log_probas[i] = [\n",
    "                1 / (1 + np.exp(label_log_probas[i][1] - label_log_probas[i][0])),\n",
    "                1 / (1 + np.exp(label_log_probas[i][0] - label_log_probas[i][1]))\n",
    "            ]\n",
    "\n",
    "        return label_log_probas\n"
   ]
  },
  {
   "cell_type": "markdown",
   "metadata": {},
   "source": [
    "### Оценка модели"
   ]
  },
  {
   "cell_type": "code",
   "execution_count": 6,
   "metadata": {},
   "outputs": [
    {
     "name": "stdout",
     "output_type": "stream",
     "text": [
      "accuracy: 0.9678899082568808\n",
      "f1_score: 0.964164842418001\n"
     ]
    }
   ],
   "source": [
    "scoring = {\n",
    "    'accuracy': make_scorer(accuracy_score),\n",
    "    'f1_score': make_scorer(f1_score)\n",
    "}\n",
    "score = cross_validate(NaiveBayesClassifier(), X, y, cv=10, scoring=scoring)\n",
    "\n",
    "print('accuracy:', np.mean(score['test_accuracy']))\n",
    "print('f1_score:', np.mean(score['test_f1_score']))"
   ]
  },
  {
   "cell_type": "code",
   "execution_count": 7,
   "metadata": {},
   "outputs": [],
   "source": [
    "def plot_roc_curve(y, y_proba):\n",
    "    fpr, tpr, thresholds = roc_curve(y, y_proba[:, 1])\n",
    "    plt.plot(fpr, tpr, color='orange', label='ROC')\n",
    "    plt.plot([0, 1], [0, 1], color='darkblue', linestyle='--')\n",
    "    plt.xlabel('False Positive Rate')\n",
    "    plt.ylabel('True Positive Rate')\n",
    "    plt.title('ROC Curve')\n",
    "    plt.legend()\n",
    "    plt.show()"
   ]
  },
  {
   "cell_type": "code",
   "execution_count": 8,
   "metadata": {},
   "outputs": [
    {
     "name": "stderr",
     "output_type": "stream",
     "text": [
      "c:\\users\\oleg naumov\\appdata\\local\\programs\\python\\python37\\lib\\site-packages\\ipykernel_launcher.py:40: RuntimeWarning: overflow encountered in exp\n",
      "c:\\users\\oleg naumov\\appdata\\local\\programs\\python\\python37\\lib\\site-packages\\ipykernel_launcher.py:41: RuntimeWarning: overflow encountered in exp\n"
     ]
    },
    {
     "data": {
      "image/png": "[encoded data removed]",
      "text/plain": [
       "<Figure size 432x288 with 1 Axes>"
      ]
     },
     "metadata": {
      "needs_background": "light"
     },
     "output_type": "display_data"
    }
   ],
   "source": [
    "spam_classifier = NaiveBayesClassifier()\n",
    "spam_classifier.fit(X, y)\n",
    "y_pred_proba = spam_classifier.predict_proba(X)\n",
    "\n",
    "plot_roc_curve(y, y_pred_proba)"
   ]
  },
  {
   "cell_type": "markdown",
   "metadata": {},
   "source": [
    "### Поиск лямбды, при которой ни одно реальное сообщение не классифицируется как спам"
   ]
  },
  {
   "cell_type": "code",
   "execution_count": 9,
   "metadata": {},
   "outputs": [],
   "source": [
    "def class_accuracy(y, y_pred, label):\n",
    "    y_labels = y[y == label]\n",
    "    y_pred_labels = y_pred[y == label]\n",
    "    return float(np.sum(y_labels == y_pred_labels)) / y_labels.shape[0]"
   ]
  },
  {
   "cell_type": "code",
   "execution_count": 10,
   "metadata": {},
   "outputs": [
    {
     "name": "stdout",
     "output_type": "stream",
     "text": [
      " 0: TN = 596, FP = 14, FN =  3, TP = 477\n",
      " 1: TN = 599, FP = 11, FN =  3, TP = 477\n",
      " 2: TN = 601, FP =  9, FN =  3, TP = 477\n",
      " 3: TN = 604, FP =  6, FN =  4, TP = 476\n",
      " 4: TN = 604, FP =  6, FN =  5, TP = 475\n",
      " 5: TN = 605, FP =  5, FN =  6, TP = 474\n",
      " 6: TN = 607, FP =  3, FN = 11, TP = 469\n",
      " 7: TN = 609, FP =  1, FN = 14, TP = 466\n",
      " 8: TN = 609, FP =  1, FN = 19, TP = 461\n",
      " 9: TN = 609, FP =  1, FN = 34, TP = 446\n",
      "10: TN = 609, FP =  1, FN = 41, TP = 439\n",
      "11: TN = 609, FP =  1, FN = 52, TP = 428\n",
      "12: TN = 609, FP =  1, FN = 55, TP = 425\n",
      "13: TN = 609, FP =  1, FN = 57, TP = 423\n",
      "14: TN = 609, FP =  1, FN = 63, TP = 417\n",
      "15: TN = 609, FP =  1, FN = 73, TP = 407\n",
      "16: TN = 609, FP =  1, FN = 80, TP = 400\n",
      "17: TN = 609, FP =  1, FN = 88, TP = 392\n",
      "18: TN = 609, FP =  1, FN = 99, TP = 381\n",
      "19: TN = 610, FP =  0, FN = 107, TP = 373\n"
     ]
    }
   ],
   "source": [
    "f1_scores = []\n",
    "legit_accuracy = []\n",
    "spam_accuracy = []\n",
    "power = 0\n",
    "fp = -1\n",
    "while fp != 0:\n",
    "    spam_classifier = NaiveBayesClassifier(lambdas=[10 ** power, 1])\n",
    "    spam_classifier.fit(X, y)\n",
    "\n",
    "    y_pred = spam_classifier.predict(X)\n",
    "    tn, fp, fn, tp = confusion_matrix(y, y_pred).ravel()\n",
    "    print(\"%2d: TN = %3d, FP = %2d, FN = %2d, TP = %3d\" % (power, tn, fp, fn, tp))\n",
    "    f1_scores.append(f1_score(y, y_pred))\n",
    "    legit_accuracy.append(class_accuracy(y, y_pred, 0))\n",
    "    spam_accuracy.append(class_accuracy(y, y_pred, 1))\n",
    "    power += 1"
   ]
  },
  {
   "cell_type": "markdown",
   "metadata": {},
   "source": [
    "Зависимость f1_score от значения lambda."
   ]
  },
  {
   "cell_type": "code",
   "execution_count": 11,
   "metadata": {},
   "outputs": [
    {
     "data": {
      "image/png": "[encoded data removed]",
      "text/plain": [
       "<Figure size 432x288 with 1 Axes>"
      ]
     },
     "metadata": {
      "needs_background": "light"
     },
     "output_type": "display_data"
    }
   ],
   "source": [
    "plt.plot(range(0, power), f1_scores)\n",
    "plt.xlabel('lambda (10^x)')\n",
    "plt.ylabel('f1 score')\n",
    "plt.show()"
   ]
  },
  {
   "cell_type": "markdown",
   "metadata": {},
   "source": [
    "Точность предксказания по каждому классу в зависмости от значения lambda."
   ]
  },
  {
   "cell_type": "code",
   "execution_count": 12,
   "metadata": {},
   "outputs": [
    {
     "data": {
      "image/png": "[encoded data removed]",
      "text/plain": [
       "<Figure size 432x288 with 1 Axes>"
      ]
     },
     "metadata": {
      "needs_background": "light"
     },
     "output_type": "display_data"
    }
   ],
   "source": [
    "plt.plot(range(0, power), legit_accuracy, 'r-', range(0, power), spam_accuracy, 'b-')\n",
    "plt.xlabel('lambda (10^x)')\n",
    "plt.ylabel('Label accuracy')\n",
    "plt.legend(['Legit', 'Spam'])\n",
    "plt.show()"
   ]
  },
  {
   "cell_type": "code",
   "execution_count": null,
   "metadata": {},
   "outputs": [],
   "source": []
  }
 ],
 "metadata": {
  "kernelspec": {
   "display_name": "Python 3",
   "language": "python",
   "name": "python3"
  },
  "language_info": {
   "codemirror_mode": {
    "name": "ipython",
    "version": 3
   },
   "file_extension": ".py",
   "mimetype": "text/x-python",
   "name": "python",
   "nbconvert_exporter": "python",
   "pygments_lexer": "ipython3",
   "version": "3.7.2"
  }
 },
 "nbformat": 4,
 "nbformat_minor": 2
}

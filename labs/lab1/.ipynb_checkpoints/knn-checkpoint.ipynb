{
 "cells": [
  {
   "cell_type": "code",
   "execution_count": 1,
   "metadata": {},
   "outputs": [],
   "source": [
    "def manhattan(v1, v2):\n",
    "    return sum([abs(a - b) for a, b in zip(v1, v2)])\n",
    "\n",
    "\n",
    "def euclidean(v1, v2):\n",
    "    return sum([(a - b) ** 2 for a, b in zip(v1, v2)]) ** (1 / 2)\n",
    "\n",
    "\n",
    "def chebyshev(v1, v2):\n",
    "    return max([abs(a - b) for a, b in zip(v1, v2)])\n",
    "\n",
    "\n",
    "metrics = {\n",
    "    \"euclidean\": euclidean,\n",
    "    \"chebyshev\": chebyshev,\n",
    "    \"manhattan\": manhattan,\n",
    "}"
   ]
  },
  {
   "cell_type": "code",
   "execution_count": 2,
   "metadata": {},
   "outputs": [],
   "source": [
    "import math\n",
    "\n",
    "def uniform(u):\n",
    "    if abs(u) < 1:\n",
    "        return 1 / 2\n",
    "    return 0\n",
    "\n",
    "\n",
    "def triangular(u):\n",
    "    if abs(u) < 1:\n",
    "        return 1 - abs(u)\n",
    "    return 0\n",
    "\n",
    "\n",
    "def epanechnikov(u):\n",
    "    if abs(u) < 1:\n",
    "        return 3 / 4 * (1 - u * u)\n",
    "    return 0\n",
    "\n",
    "\n",
    "def quartic(u):\n",
    "    if abs(u) < 1:\n",
    "        return 15 / 16 * (1 - u * u) ** 2\n",
    "    return 0\n",
    "\n",
    "\n",
    "def triweight(u):\n",
    "    if abs(u) < 1:\n",
    "        return 35 / 32 * (1 - u * u) ** 3\n",
    "    return 0\n",
    "\n",
    "\n",
    "def tricube(u):\n",
    "    if abs(u) < 1:\n",
    "        return 70 / 81 * (1 - abs(u) ** 3) ** 3\n",
    "    return 0\n",
    "\n",
    "\n",
    "def gaussian(u):\n",
    "    return 1 / (math.sqrt(2 * math.pi)) * math.e ** (-0.5 * u * u)\n",
    "\n",
    "\n",
    "def cosine(u):\n",
    "    if abs(u) < 1:\n",
    "        return math.pi / 4 * math.cos(math.pi / 2 * u)\n",
    "    return 0\n",
    "\n",
    "\n",
    "def logistic(u):\n",
    "    return 1 / (math.e ** u + 2 + math.e ** (-u))\n",
    "\n",
    "\n",
    "def sigmoid(u):\n",
    "    return (2 / math.pi) * (1 / (math.e ** u + math.e ** (-u)))\n",
    "\n",
    "\n",
    "kernels = {\n",
    "    \"uniform\": uniform,\n",
    "    \"triangular\": triangular,\n",
    "    \"epanechnikov\": epanechnikov,\n",
    "    \"quartic\": quartic,\n",
    "    \"triweight\": triweight,\n",
    "    \"tricube\": tricube,\n",
    "    \"gaussian\": gaussian,\n",
    "    \"cosine\": cosine,\n",
    "    \"logistic\": logistic,\n",
    "    \"sigmoid\": sigmoid,\n",
    "}"
   ]
  },
  {
   "cell_type": "code",
   "execution_count": 3,
   "metadata": {},
   "outputs": [],
   "source": [
    "import numpy as np\n",
    "\n",
    "\n",
    "class KnnRegressor:\n",
    "\n",
    "    def __init__(self, metric=\"euclidean\", kernel=\"uniform\", win_type=\"fixed\", k=5, class_count=1):\n",
    "        self.data = []\n",
    "        self.metric = metric\n",
    "        self.kernel = kernel\n",
    "        self.win_type = win_type\n",
    "        self.k = k\n",
    "        self.class_count = class_count\n",
    "\n",
    "    def fit(self, data):\n",
    "        self.data = data.to_numpy()\n",
    "\n",
    "    def predict(self, query):\n",
    "        N = len(self.data)\n",
    "        dists = []\n",
    "        for row in self.data:\n",
    "            d = metrics[self.metric](row[:-self.class_count], query)\n",
    "            dists.append((d, row[-self.class_count:]))\n",
    "\n",
    "        y_weights = []\n",
    "        weights = []\n",
    "        dists = sorted(dists, key=lambda x: x[0])\n",
    "\n",
    "        for dist in dists:\n",
    "            if dist[0] != 0 and (self.k == 0 or (self.win_type == \"variable\" and dists[self.k][0] == 0)):\n",
    "                k = 0\n",
    "            else:\n",
    "                if self.win_type == \"fixed\":\n",
    "                    u = dist[0] / self.k if self.k != 0 else 0\n",
    "                elif self.win_type == \"variable\":\n",
    "                    u = dist[0] / dists[self.k][0] if dists[self.k][0] != 0 else 0\n",
    "\n",
    "                k = kernels[self.kernel](u)\n",
    "\n",
    "            weights.append(k)\n",
    "            y_weights.append(np.array(dist[1]) * k)\n",
    "\n",
    "        res = []\n",
    "        if sum(weights) == 0:\n",
    "            for i in range(1, self.class_count + 1):\n",
    "                res.insert(0, sum(row[-i] for row in self.data) / N)\n",
    "        else:\n",
    "            for i in range(1, self.class_count + 1):\n",
    "                res.insert(0, sum([w[-i] for w in y_weights]) / sum(weights))\n",
    "\n",
    "        return res\n"
   ]
  },
  {
   "cell_type": "code",
   "execution_count": 4,
   "metadata": {},
   "outputs": [],
   "source": [
    "from sklearn.model_selection import LeaveOneOut\n",
    "from sklearn.metrics import f1_score\n",
    "import matplotlib.pyplot as plt\n",
    "from itertools import product\n",
    "import pandas as pd\n",
    "import numpy as np\n",
    "import time"
   ]
  },
  {
   "cell_type": "code",
   "execution_count": 5,
   "metadata": {},
   "outputs": [],
   "source": [
    "def leave_one_out_cv(regressor, data, class_count):\n",
    "    y_pred = []\n",
    "    y_true = []\n",
    "    loo = LeaveOneOut()\n",
    "    for train_index, test_index in loo.split(data):\n",
    "        regressor.fit(data.iloc[train_index])\n",
    "\n",
    "        test = np.array(data.iloc[test_index])[0][:-class_count]\n",
    "        if class_count == 1:\n",
    "            y_true.append(np.array(data.iloc[test_index])[0][-1])\n",
    "            y_pred.append(np.round(regressor.predict(test)[0]))\n",
    "        else:\n",
    "            y_true.append(np.argmax(np.array(data.iloc[test_index])[0][-class_count:]))\n",
    "            pred = regressor.predict(test)\n",
    "            y_pred.append(np.argmax(pred))\n",
    "\n",
    "    return f1_score(y_true, y_pred, average=\"weighted\")"
   ]
  },
  {
   "cell_type": "code",
   "execution_count": 6,
   "metadata": {},
   "outputs": [],
   "source": [
    "def grid_search_cv(regressor, grid_params, data, class_count, verbose=False):\n",
    "    params_list = list(grid_params.keys())\n",
    "    best_score = 0.0\n",
    "    best_params = {}\n",
    "\n",
    "    for params in (dict(zip(grid_params.keys(), values)) for values in product(*grid_params.values())):\n",
    "                knn = regressor(**params, class_count=class_count)\n",
    "                score = leave_one_out_cv(knn, data, class_count)\n",
    "\n",
    "                if verbose:\n",
    "                    format_list = list(params.values())\n",
    "                    format_list.append(score)\n",
    "                    print('%12s : %12s : %10s : %3d = %7.5f' % tuple(format_list))\n",
    "\n",
    "                if score > best_score:\n",
    "                    best_score = score\n",
    "                    for p_name in params_list:\n",
    "                        best_params[p_name] = params[p_name]\n",
    "\n",
    "    return best_params, best_score"
   ]
  },
  {
   "cell_type": "code",
   "execution_count": 7,
   "metadata": {},
   "outputs": [],
   "source": [
    "def plot(neighbors_count, f_score):\n",
    "    plt.plot(neighbors_count, f_score, color='blue', linestyle='solid', label='sin(x)')\n",
    "    plt.xlabel('Neighbors count')\n",
    "    plt.ylabel('F1 score')\n",
    "    plt.show()"
   ]
  },
  {
   "cell_type": "code",
   "execution_count": 18,
   "metadata": {},
   "outputs": [],
   "source": [
    "N = 400\n",
    "# load data\n",
    "dataset = pd.read_csv(\"abalone.csv\")[:N]\n",
    "\n",
    "V1 = {'F': 0, 'I': 1, 'M': 2}\n",
    "ClassLabels = {1: 0.0, 2: 1.0, 3: 2.0}\n",
    "dataset['V1'] = dataset['V1'].map(V1)\n",
    "dataset['Class'] = dataset['Class'].map(ClassLabels)\n",
    "\n",
    "X = dataset.drop(dataset.columns[-1], axis=1)\n",
    "y = dataset[dataset.columns[-1]]"
   ]
  },
  {
   "cell_type": "code",
   "execution_count": 19,
   "metadata": {},
   "outputs": [],
   "source": [
    "# normalize data\n",
    "columns = list(X.columns)\n",
    "columns_bins = {}\n",
    "for column in columns[1:]:\n",
    "    X[column], bins = pd.qcut(X[column], 5, retbins=True, labels=False)\n",
    "    columns_bins[column] = bins"
   ]
  },
  {
   "cell_type": "code",
   "execution_count": 20,
   "metadata": {},
   "outputs": [
    {
     "name": "stdout",
     "output_type": "stream",
     "text": [
      "   V1  V2  V3  V4  V5  V6  V7  V8  Class\n",
      "0   2   1   1   0   1   1   1   1    2.0\n",
      "1   2   0   0   0   0   0   0   0    0.0\n",
      "2   0   2   2   2   2   2   2   2    1.0\n",
      "3   2   1   1   1   1   1   1   1    1.0\n",
      "4   1   0   0   0   0   0   0   0    0.0\n",
      "5   1   1   1   0   1   1   1   1    0.0\n",
      "6   0   2   2   2   2   2   2   3    2.0\n",
      "7   0   2   2   1   2   2   2   2    2.0\n",
      "8   2   1   1   1   1   1   1   1    1.0\n",
      "9   0   2   2   2   3   2   2   3    2.0\n"
     ]
    }
   ],
   "source": [
    "# NAIVE\n",
    "class_count = 1\n",
    "normalized_dataset = X.join(y)\n",
    "\n",
    "print(normalized_dataset.head(10))"
   ]
  },
  {
   "cell_type": "code",
   "execution_count": 21,
   "metadata": {},
   "outputs": [
    {
     "name": "stdout",
     "output_type": "stream",
     "text": [
      "{'metric': 'euclidean', 'kernel': 'gaussian', 'win_type': 'variable', 'k': 3}\n",
      "0.7300861520598647\n"
     ]
    },
    {
     "data": {
      "image/png": "[encoded data removed]",
      "text/plain": [
       "<Figure size 432x288 with 1 Axes>"
      ]
     },
     "metadata": {
      "needs_background": "light"
     },
     "output_type": "display_data"
    },
    {
     "name": "stdout",
     "output_type": "stream",
     "text": [
      "235.60415410995483\n"
     ]
    }
   ],
   "source": [
    "start = time.time()\n",
    "\n",
    "k_range = range(1, 15, 1)\n",
    "grid_params = {\n",
    "    'metric': ['euclidean', 'manhattan'],\n",
    "    'kernel': ['uniform', 'gaussian'],\n",
    "    'win_type': ['variable'],\n",
    "    'k': k_range,\n",
    "}\n",
    "\n",
    "best_params, best_score = grid_search_cv(KnnRegressor, grid_params, normalized_dataset, class_count)\n",
    "print(best_params)\n",
    "print(best_score)\n",
    "\n",
    "best_params.pop('k', None)\n",
    "\n",
    "scores = []\n",
    "for k in k_range:\n",
    "    knn = KnnRegressor(**best_params, k=k, class_count=class_count)\n",
    "    scores.append(leave_one_out_cv(knn, normalized_dataset, class_count))\n",
    "\n",
    "plot([k for k in k_range], scores)\n",
    "\n",
    "print(time.time() - start)"
   ]
  },
  {
   "cell_type": "code",
   "execution_count": 22,
   "metadata": {},
   "outputs": [
    {
     "name": "stdout",
     "output_type": "stream",
     "text": [
      "   V1  V2  V3  V4  V5  V6  V7  V8  0.0  1.0  2.0\n",
      "0   2   1   1   0   1   1   1   1  0.0  0.0  1.0\n",
      "1   2   0   0   0   0   0   0   0  1.0  0.0  0.0\n",
      "2   0   2   2   2   2   2   2   2  0.0  1.0  0.0\n",
      "3   2   1   1   1   1   1   1   1  0.0  1.0  0.0\n",
      "4   1   0   0   0   0   0   0   0  1.0  0.0  0.0\n",
      "5   1   1   1   0   1   1   1   1  1.0  0.0  0.0\n",
      "6   0   2   2   2   2   2   2   3  0.0  0.0  1.0\n",
      "7   0   2   2   1   2   2   2   2  0.0  0.0  1.0\n",
      "8   2   1   1   1   1   1   1   1  0.0  1.0  0.0\n",
      "9   0   2   2   2   3   2   2   3  0.0  0.0  1.0\n"
     ]
    }
   ],
   "source": [
    "# ONE HOT\n",
    "class_count = 3\n",
    "y = pd.get_dummies(y, dtype=float)\n",
    "normalized_dataset = X.join(y)\n",
    "del X\n",
    "\n",
    "print(normalized_dataset.head(10))"
   ]
  },
  {
   "cell_type": "code",
   "execution_count": 23,
   "metadata": {},
   "outputs": [
    {
     "name": "stderr",
     "output_type": "stream",
     "text": [
      "c:\\users\\oleg naumov\\appdata\\local\\programs\\python\\python37\\lib\\site-packages\\sklearn\\metrics\\classification.py:1143: UndefinedMetricWarning: F-score is ill-defined and being set to 0.0 in labels with no predicted samples.\n",
      "  'precision', 'predicted', average, warn_for)\n"
     ]
    },
    {
     "name": "stdout",
     "output_type": "stream",
     "text": [
      "{'metric': 'manhattan', 'kernel': 'uniform', 'win_type': 'fixed', 'k': 4.5}\n",
      "0.7251087611377113\n"
     ]
    },
    {
     "data": {
      "image/png": "[encoded data removed]",
      "text/plain": [
       "<Figure size 432x288 with 1 Axes>"
      ]
     },
     "metadata": {
      "needs_background": "light"
     },
     "output_type": "display_data"
    },
    {
     "name": "stdout",
     "output_type": "stream",
     "text": [
      "272.82165932655334\n"
     ]
    }
   ],
   "source": [
    "start = time.time()\n",
    "\n",
    "k_range = np.arange(0.0, 8.0, 0.5)\n",
    "grid_params = {\n",
    "    'metric': ['euclidean', 'manhattan'],\n",
    "    'kernel': ['uniform', 'gaussian'],\n",
    "    'win_type': ['fixed'],\n",
    "    'k': k_range,\n",
    "}\n",
    "\n",
    "best_params, best_score = grid_search_cv(KnnRegressor, grid_params, normalized_dataset, class_count)\n",
    "print(best_params)\n",
    "print(best_score)\n",
    "\n",
    "best_params.pop('k', None)\n",
    "\n",
    "scores = []\n",
    "for k in k_range:\n",
    "    knn = KnnRegressor(**best_params, k=k, class_count=class_count)\n",
    "    scores.append(leave_one_out_cv(knn, normalized_dataset, class_count))\n",
    "\n",
    "plot([k for k in k_range], scores)\n",
    "\n",
    "print(time.time() - start)"
   ]
  },
  {
   "cell_type": "code",
   "execution_count": null,
   "metadata": {},
   "outputs": [],
   "source": []
  }
 ],
 "metadata": {
  "kernelspec": {
   "display_name": "Python 3",
   "language": "python",
   "name": "python3"
  },
  "language_info": {
   "codemirror_mode": {
    "name": "ipython",
    "version": 3
   },
   "file_extension": ".py",
   "mimetype": "text/x-python",
   "name": "python",
   "nbconvert_exporter": "python",
   "pygments_lexer": "ipython3",
   "version": "3.7.2"
  }
 },
 "nbformat": 4,
 "nbformat_minor": 2
}

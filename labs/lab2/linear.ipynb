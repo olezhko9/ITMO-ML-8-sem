{
 "cells": [
  {
   "cell_type": "code",
   "execution_count": 2,
   "metadata": {},
   "outputs": [],
   "source": [
    "import numpy as np\n",
    "\n",
    "\n",
    "def nrmse(actual, predicted):\n",
    "    return np.sqrt(np.mean(np.square(actual - predicted))) / (actual.max() - actual.min())\n",
    "\n",
    "\n",
    "def smape(y_true, y_pred):\n",
    "    return 2 * np.mean(np.abs(y_true - y_pred) / (np.abs(y_true) + np.abs(y_pred)))\n",
    "\n",
    "\n",
    "def mse(y_true, y_pred):\n",
    "    return np.mean(np.square(y_true - y_pred))"
   ]
  },
  {
   "cell_type": "code",
   "execution_count": 3,
   "metadata": {},
   "outputs": [],
   "source": [
    "class PseudoinverseRegressor:\n",
    "    def __init__(self):\n",
    "        self.theta = None\n",
    "\n",
    "    def fit(self, X_train, y_train):\n",
    "        self.theta = np.dot(np.linalg.pinv(X_train), y_train)\n",
    "        return self.theta\n",
    "\n",
    "    def predict(self, X_test):\n",
    "        if self.theta is not None:\n",
    "            return np.dot(X_test, self.theta)"
   ]
  },
  {
   "cell_type": "code",
   "execution_count": 5,
   "metadata": {},
   "outputs": [
    {
     "name": "stdout",
     "output_type": "stream",
     "text": [
      "train:  (813, 611)\n",
      "test:  (256, 611)\n"
     ]
    }
   ],
   "source": [
    "# reading data\n",
    "train = []\n",
    "test = []\n",
    "with open('./dataset/1.txt', 'r') as f:\n",
    "    M = int(f.readline())  # число признаков\n",
    "    N = int(f.readline())  # число объектов в тренировочном наборе\n",
    "\n",
    "    for i in range(N):\n",
    "        train.append(list(map(int, f.readline().split(' '))))\n",
    "\n",
    "    K = int(f.readline())  # число объектов в тестовом наборе\n",
    "\n",
    "    for i in range(K):\n",
    "        test.append(list(map(int, f.readline().split(' '))))\n",
    "\n",
    "train = np.array(train, dtype='float64')\n",
    "test = np.array(test, dtype='float64')\n",
    "\n",
    "print('train: ', train.shape)\n",
    "print('test: ', test.shape)"
   ]
  },
  {
   "cell_type": "code",
   "execution_count": 6,
   "metadata": {},
   "outputs": [
    {
     "name": "stdout",
     "output_type": "stream",
     "text": [
      "train:  ((813, 611), (813,))\n",
      "test:  ((256, 611), (256,))\n"
     ]
    }
   ],
   "source": [
    "X_train = np.append(train[:, :-1], np.ones((N, 1)), axis=1)\n",
    "y_train = train[:, -1]\n",
    "\n",
    "X_test = np.append(test[:, :-1], np.ones((K, 1)), axis=1)\n",
    "y_test = test[:, -1]\n",
    "\n",
    "print('train: ', (X_train.shape, y_train.shape))\n",
    "print('test: ', (X_test.shape, y_test.shape))"
   ]
  },
  {
   "cell_type": "code",
   "execution_count": 7,
   "metadata": {},
   "outputs": [],
   "source": [
    "pseudoinverseRegressor = PseudoinverseRegressor()\n",
    "theta = pseudoinverseRegressor.fit(X_train, y_train)\n",
    "y_pred = pseudoinverseRegressor.predict(X_test)"
   ]
  },
  {
   "cell_type": "code",
   "execution_count": 8,
   "metadata": {},
   "outputs": [
    {
     "name": "stdout",
     "output_type": "stream",
     "text": [
      "nrmse:  0.003299656289325357\n",
      "smape:  0.03797950922882917\n",
      "[18197666. 17191571. -2930329.  4447701. 57770736. 62801211. 49721976.\n",
      " 62801211. 40667121. 27252521. 41002486. -6619344. 52404896. 34295186.\n",
      " -9972994. 11825731. -2930329. 61459751.]\n",
      "[ 17926698.          16942534.          -3288536.\n",
      "   4121330.          57649440.          62723872.\n",
      "  49584672.          62723872.          40466096.\n",
      "  27053464.          40817360.          -7015744.\n",
      "  52259616.          34094144.         -10362496.\n",
      "  11524542.15454102  -3288536.          61381280.        ]\n"
     ]
    }
   ],
   "source": [
    "print('nrmse: ', nrmse(y_test, y_pred))\n",
    "print('smape: ', smape(y_test, y_pred))\n",
    "\n",
    "print(y_test[:18].flatten())\n",
    "print(y_pred[:18].flatten())"
   ]
  },
  {
   "cell_type": "code",
   "execution_count": null,
   "metadata": {},
   "outputs": [],
   "source": []
  }
 ],
 "metadata": {
  "kernelspec": {
   "display_name": "Python 3",
   "language": "python",
   "name": "python3"
  },
  "language_info": {
   "codemirror_mode": {
    "name": "ipython",
    "version": 3
   },
   "file_extension": ".py",
   "mimetype": "text/x-python",
   "name": "python",
   "nbconvert_exporter": "python",
   "pygments_lexer": "ipython3",
   "version": "3.7.2"
  }
 },
 "nbformat": 4,
 "nbformat_minor": 2
}

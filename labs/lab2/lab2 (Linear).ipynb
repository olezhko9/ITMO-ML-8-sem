{
 "cells": [
  {
   "cell_type": "code",
   "execution_count": 1,
   "metadata": {},
   "outputs": [],
   "source": [
    "import numpy as np\n",
    "import matplotlib.pyplot as plt"
   ]
  },
  {
   "cell_type": "code",
   "execution_count": 2,
   "metadata": {},
   "outputs": [],
   "source": [
    "def nrmse(actual, predicted):\n",
    "    return np.sqrt(np.mean(np.square(actual - predicted))) / (actual.max() - actual.min())\n",
    "\n",
    "\n",
    "def smape(y_true, y_pred):\n",
    "    return np.mean(2 * np.abs(y_true - y_pred) / (np.abs(y_true) + np.abs(y_pred)))\n",
    "\n",
    "\n",
    "def mse(y_true, y_pred):\n",
    "    return np.mean(np.square(y_true - y_pred))"
   ]
  },
  {
   "cell_type": "code",
   "execution_count": 3,
   "metadata": {},
   "outputs": [
    {
     "name": "stdout",
     "output_type": "stream",
     "text": [
      "train:  ((8770, 58), (8770, 1))\n",
      "test:  ((256, 58), (256, 1))\n"
     ]
    }
   ],
   "source": [
    "# reading data\n",
    "train = []\n",
    "test = []\n",
    "with open('./dataset/2.txt', 'r') as f:\n",
    "    M = int(f.readline())  # число признаков\n",
    "    N = int(f.readline())  # число объектов в тренировочном наборе\n",
    "\n",
    "    for i in range(N):\n",
    "        train.append(list(map(int, f.readline().split(' '))))\n",
    "\n",
    "    K = int(f.readline())  # число объектов в тестовом наборе\n",
    "\n",
    "    for i in range(K):\n",
    "        test.append(list(map(int, f.readline().split(' '))))\n",
    "\n",
    "train = np.array(train, dtype='float64')\n",
    "np.random.shuffle(train)\n",
    "test = np.array(test, dtype='float64')\n",
    "\n",
    "train = np.append(np.append(train[:, :-1], np.ones((N, 1)), axis=1), train[:, -1:], axis=1)\n",
    "test = np.append(np.append(test[:, :-1], np.ones((K, 1)), axis=1), test[:, -1:], axis=1)\n",
    "\n",
    "X_train = train[:, :-1]\n",
    "y_train = train[:, -1:]\n",
    "\n",
    "X_test = test[:, :-1]\n",
    "y_test = test[:, -1:]\n",
    "\n",
    "print('train: ', (X_train.shape, y_train.shape))\n",
    "print('test: ', (X_test.shape, y_test.shape))"
   ]
  },
  {
   "cell_type": "code",
   "execution_count": 24,
   "metadata": {},
   "outputs": [],
   "source": [
    "class GradientDescentRegressor:\n",
    "    def __init__(self, lr=1e-9, max_iter=1000, penalty='l2', a=1, eps=1e-10):\n",
    "        self.lr = lr\n",
    "        self.max_iter = max_iter\n",
    "        self.penalty = penalty\n",
    "        self.a = a\n",
    "        self.eps = eps\n",
    "\n",
    "        self.w = None\n",
    "        self.X = None\n",
    "        self.y = None\n",
    "\n",
    "    def _gradient(self, y_pred):\n",
    "        l = len(self.X)\n",
    "        return (2 / l) * self.X.T.dot(y_pred - self.y)\n",
    "\n",
    "    def _cost(self, y_pred):\n",
    "        return nrmse(self.y, y_pred)\n",
    "\n",
    "    def fit(self, X, y):\n",
    "        self.X = X\n",
    "        self.y = y\n",
    "\n",
    "        error_list = []\n",
    "        self.w = np.zeros((X.shape[1], 1))\n",
    "\n",
    "        for it in range(self.max_iter):\n",
    "            y_pred = self.X.dot(self.w)\n",
    "\n",
    "            if self.penalty == 'l1':\n",
    "                self.w = self.w - self.lr * (self._gradient(y_pred) - 1 / self.a * np.sign(self.w))\n",
    "            else:\n",
    "                self.w = self.w - self.lr * (self._gradient(y_pred) - 1 / self.a * self.w)\n",
    "\n",
    "            error_list.append(self._cost(y_pred))\n",
    "            if it >= 2 and np.abs(error_list[-1] - error_list[-2]) < self.eps:\n",
    "                break\n",
    "\n",
    "        return self.w, error_list\n",
    "\n",
    "    def predict(self, X_test):\n",
    "        return X_test @ self.w\n"
   ]
  },
  {
   "cell_type": "code",
   "execution_count": 25,
   "metadata": {},
   "outputs": [
    {
     "data": {
      "image/png": "[encoded data removed]",
      "text/plain": [
       "<Figure size 432x288 with 1 Axes>"
      ]
     },
     "metadata": {
      "needs_background": "light"
     },
     "output_type": "display_data"
    }
   ],
   "source": [
    "GDRegressor = GradientDescentRegressor(lr=5e-9, max_iter=2000, penalty='l2', a=1000, eps=1e-10)\n",
    "_, err = GDRegressor.fit(X_train, y_train)\n",
    "\n",
    "plt.plot(err)\n",
    "plt.xlabel(\"Number of iterations\")\n",
    "plt.ylabel(\"Cost\")\n",
    "plt.show()"
   ]
  },
  {
   "cell_type": "code",
   "execution_count": 26,
   "metadata": {},
   "outputs": [
    {
     "name": "stdout",
     "output_type": "stream",
     "text": [
      "train nrmse:  0.008691965470430272\n",
      "train smape:  0.15100456661904127\n",
      "[-16227033.  26458929.  30717789. -41676589.   4259140. -13429526.\n",
      "   6228472. -17964692.  30556540.  -2459637.  15065655. -12145979.\n",
      "  16819735.  -3823603.  37089485.  15040240.   8349853.  19601736.]\n",
      "[-16272844.  27338897.  30403199. -41212861.   4062701. -16224358.\n",
      "   5269230. -18541804.  29959286.  -3309476.  15081790. -12277107.\n",
      "  16236199.  -4069992.  35201057.  15209932.   8130313.  18848691.]\n"
     ]
    }
   ],
   "source": [
    "y_train_pred = GDRegressor.predict(X_train)\n",
    "\n",
    "print('train nrmse: ', nrmse(y_train, y_train_pred))\n",
    "print('train smape: ', smape(y_train, y_train_pred))\n",
    "print(np.round(y_train[:18].flatten(), 0))\n",
    "print(np.round(y_train_pred[:18].flatten(), 0))"
   ]
  },
  {
   "cell_type": "code",
   "execution_count": 27,
   "metadata": {},
   "outputs": [
    {
     "name": "stdout",
     "output_type": "stream",
     "text": [
      "test nrmse:  0.002796215030768083\n",
      "test smape:  0.04395566235912969\n",
      "[-17999732. -12479108.   7480700. -16160833.   9688766.  -5795125.\n",
      "  -1208631.   3092252.  37245198.  -1971175.  -5128219.   1385945.\n",
      "   1755627.  16091113.  34019726.  19227534.  41983808.   8971134.]\n",
      "[-18143473. -12482430.   7327517. -16414567.   9658926.  -5847778.\n",
      "   -886244.   3175035.  37196685.  -1950766.  -5089066.   1592883.\n",
      "   1742094.  15958368.  34048317.  19046980.  41532737.   8598430.]\n"
     ]
    }
   ],
   "source": [
    "y_test_pred = GDRegressor.predict(X_test)\n",
    "\n",
    "print('test nrmse: ', nrmse(y_test, y_test_pred))\n",
    "print('test smape: ', smape(y_test, y_test_pred))\n",
    "print(np.round(y_test[:18].flatten(), 0))\n",
    "print(np.round(y_test_pred[:18].flatten(), 0))"
   ]
  },
  {
   "cell_type": "code",
   "execution_count": 8,
   "metadata": {},
   "outputs": [],
   "source": [
    "class PseudoinverseRegressor:\n",
    "    def __init__(self):\n",
    "        self.theta = None\n",
    "\n",
    "    def fit(self, X_train, y_train):\n",
    "        self.theta = np.dot(np.linalg.pinv(X_train), y_train)\n",
    "        return self.theta\n",
    "\n",
    "    def predict(self, X_test):\n",
    "        if self.theta is not None:\n",
    "            return np.dot(X_test, self.theta)"
   ]
  },
  {
   "cell_type": "code",
   "execution_count": 9,
   "metadata": {},
   "outputs": [],
   "source": [
    "pseudoinverseRegressor = PseudoinverseRegressor()\n",
    "theta = pseudoinverseRegressor.fit(X_train, y_train)"
   ]
  },
  {
   "cell_type": "code",
   "execution_count": 10,
   "metadata": {},
   "outputs": [
    {
     "name": "stdout",
     "output_type": "stream",
     "text": [
      "train nrmse:  0.00848209703055794\n",
      "train smape:  0.1497353492101201\n",
      "[-16227033.  26458929.  30717789. -41676589.   4259140. -13429526.\n",
      "   6228472. -17964692.  30556540.  -2459637.  15065655. -12145979.\n",
      "  16819735.  -3823603.  37089485.  15040240.   8349853.  19601736.]\n",
      "[-16198650.  27326834.  30582840. -41241114.   4144915. -16302224.\n",
      "   5450456. -18444737.  30189125.  -3527776.  15268611. -12346867.\n",
      "  16071108.  -3892629.  35645948.  15570550.   8195072.  19004770.]\n"
     ]
    }
   ],
   "source": [
    "y_train_pred = pseudoinverseRegressor.predict(X_train)\n",
    "\n",
    "print('train nrmse: ', nrmse(y_train, y_train_pred))\n",
    "print('train smape: ', smape(y_train, y_train_pred))\n",
    "print(np.round(y_train[:18].flatten(), 0))\n",
    "print(np.round(y_train_pred[:18].flatten(), 0))"
   ]
  },
  {
   "cell_type": "code",
   "execution_count": 11,
   "metadata": {},
   "outputs": [
    {
     "name": "stdout",
     "output_type": "stream",
     "text": [
      "test nrmse:  0.0008186815356768526\n",
      "test smape:  0.018362450783921788\n",
      "[-17999732. -12479108.   7480700. -16160833.   9688766.  -5795125.\n",
      "  -1208631.   3092252.  37245198.  -1971175.  -5128219.   1385945.\n",
      "   1755627.  16091113.  34019726.  19227534.  41983808.   8971134.]\n",
      "[-17937992. -12401185.   7365206. -16111107.   9694056.  -5931285.\n",
      "  -1247148.   3006786.  37196553.  -1972219.  -5110066.   1522012.\n",
      "   1650091.  15944753.  33977606.  19095647.  41975271.   8879875.]\n"
     ]
    }
   ],
   "source": [
    "y_test_pred = pseudoinverseRegressor.predict(X_test)\n",
    "\n",
    "print('test nrmse: ', nrmse(y_test, y_test_pred))\n",
    "print('test smape: ', smape(y_test, y_test_pred))\n",
    "print(np.round(y_test[:18].flatten(), 0))\n",
    "print(np.round(y_test_pred[:18].flatten(), 0))"
   ]
  },
  {
   "cell_type": "code",
   "execution_count": 12,
   "metadata": {},
   "outputs": [],
   "source": [
    "def annealing(X, y, lr=0.1):\n",
    "    error_list = []\n",
    "    t = 1.0\n",
    "    weights = np.array([np.random.uniform(X[:, i].min(), X[:, i].max()) for i in range(len(X[0]))], copy=True)\n",
    "    while t > 0.1:\n",
    "\n",
    "        e_old = nrmse(y, X @ weights)\n",
    "\n",
    "        new_weights = weights.copy()\n",
    "        for i in range(len(X[0])):\n",
    "            dir = np.random.choice([-1, 1])\n",
    "            new_weights[i] = new_weights[i] - (dir * lr * new_weights[i])\n",
    "\n",
    "        e_new = nrmse(y, X @ new_weights)\n",
    "\n",
    "        if e_new < e_old or np.exp(-(e_new - e_old) / t) > np.random.rand():\n",
    "            weights = new_weights.copy()\n",
    "            e = e_new\n",
    "        else:\n",
    "            e = e_old\n",
    "\n",
    "        error_list.append(e)\n",
    "        t *= 0.99\n",
    "\n",
    "    return weights, error_list"
   ]
  },
  {
   "cell_type": "code",
   "execution_count": 19,
   "metadata": {},
   "outputs": [
    {
     "data": {
      "image/png": "[encoded data removed]",
      "text/plain": [
       "<Figure size 432x288 with 1 Axes>"
      ]
     },
     "metadata": {
      "needs_background": "light"
     },
     "output_type": "display_data"
    }
   ],
   "source": [
    "weights, err = annealing(X_train, y_train, lr=0.25)\n",
    "\n",
    "plt.plot(err)\n",
    "plt.xlabel(\"Number of iterations\")\n",
    "plt.ylabel(\"Cost\")\n",
    "plt.show()"
   ]
  },
  {
   "cell_type": "code",
   "execution_count": 22,
   "metadata": {},
   "outputs": [
    {
     "name": "stdout",
     "output_type": "stream",
     "text": [
      "train nrmse:  0.154073715638551\n",
      "train smape:  1.619167754822812\n"
     ]
    }
   ],
   "source": [
    "y_train_pred = X_train @ weights\n",
    "\n",
    "print('train nrmse: ', nrmse(y_train, y_train_pred))\n",
    "print('train smape: ', smape(y_train, y_train_pred))"
   ]
  },
  {
   "cell_type": "code",
   "execution_count": 23,
   "metadata": {},
   "outputs": [
    {
     "name": "stdout",
     "output_type": "stream",
     "text": [
      "test nrmse:  0.20810530551918238\n",
      "test smape:  1.6348050123006783\n"
     ]
    }
   ],
   "source": [
    "y_test_pred = X_test @ weights\n",
    "\n",
    "print('test nrmse: ', nrmse(y_test, y_test_pred))\n",
    "print('test smape: ', smape(y_test, y_test_pred))"
   ]
  },
  {
   "cell_type": "code",
   "execution_count": null,
   "metadata": {},
   "outputs": [],
   "source": []
  }
 ],
 "metadata": {
  "kernelspec": {
   "display_name": "Python 3",
   "language": "python",
   "name": "python3"
  },
  "language_info": {
   "codemirror_mode": {
    "name": "ipython",
    "version": 3
   },
   "file_extension": ".py",
   "mimetype": "text/x-python",
   "name": "python",
   "nbconvert_exporter": "python",
   "pygments_lexer": "ipython3",
   "version": "3.7.2"
  }
 },
 "nbformat": 4,
 "nbformat_minor": 2
}
